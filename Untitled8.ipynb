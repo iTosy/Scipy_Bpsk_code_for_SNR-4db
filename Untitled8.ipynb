{
  "nbformat": 4,
  "nbformat_minor": 0,
  "metadata": {
    "colab": {
      "provenance": [],
      "authorship_tag": "ABX9TyN1Od1PMIbxergE22t7kVWw",
      "include_colab_link": true
    },
    "kernelspec": {
      "name": "python3",
      "display_name": "Python 3"
    },
    "language_info": {
      "name": "python"
    }
  },
  "cells": [
    {
      "cell_type": "markdown",
      "metadata": {
        "id": "view-in-github",
        "colab_type": "text"
      },
      "source": [
        "<a href=\"https://colab.research.google.com/github/iTosy/Scipy_Bpsk_code_for_SNR-4db/blob/main/Untitled8.ipynb\" target=\"_parent\"><img src=\"https://colab.research.google.com/assets/colab-badge.svg\" alt=\"Open In Colab\"/></a>"
      ]
    },
    {
      "cell_type": "code",
      "execution_count": 9,
      "metadata": {
        "colab": {
          "base_uri": "https://localhost:8080/",
          "height": 447
        },
        "id": "jV2ol3HE_sZf",
        "outputId": "00b1ab2c-e48c-4284-8649-ef24567fcbba"
      },
      "outputs": [
        {
          "output_type": "stream",
          "name": "stdout",
          "text": [
            "0.04923333333333333\n"
          ]
        },
        {
          "output_type": "display_data",
          "data": {
            "text/plain": [
              "<Figure size 640x480 with 1 Axes>"
            ],
            "image/png": "[encoded data removed]"
          },
          "metadata": {}
        }
      ],
      "source": [
        "#Eb/N0 Vs BER for BPSK over AWGN (complex baseband model)\n",
        "# © Author: Mathuranathan Viswanathan (gaussianwaves.com)\n",
        "import numpy as np #for numerical computing\n",
        "import matplotlib.pyplot as plt #for plotting functions\n",
        "from scipy.special import erfc #erfc/Q function\n",
        "\n",
        "#---------Input Fields------------------------\n",
        "nSym = 120000 # Number of symbols to transmit\n",
        "EbN0dB = 4\n",
        "\n",
        "\n",
        "M=2 #Number of points in BPSK constellation\n",
        "m = np.arange(0,M) #all possible input symbols\n",
        "A = 1; #amplitude\n",
        "constellation = A*np.cos(m/M*2*np.pi)  #reference constellation for BPSK\n",
        "\n",
        "#------------ Transmitter---------------\n",
        "inputSyms = np.random.randint(low=0, high = M, size=nSym) #Random 1's and 0's as input to BPSK modulator\n",
        "s = constellation[inputSyms] #modulated symbols\n",
        "\n",
        "fig, ax1 = plt.subplots(nrows=1,ncols = 1)\n",
        "ax1.plot(np.real(constellation),np.imag(constellation),'*')\n",
        "\n",
        "#----------- Channel --------------\n",
        "#Compute power in modulatedSyms and add AWGN noise for given SNRs\n",
        "\n",
        "gamma = 10**(EbN0dB/10) #SNRs to linear scale\n",
        "P=sum(abs(s)**2)/len(s) #Actual power in the vector\n",
        "N0=P/gamma # Find the noise spectral density\n",
        "n = np.sqrt(N0/2)*np.random.standard_normal(s.shape) # computed noise vector\n",
        "r = s + n # received signal\n",
        "    \n",
        "#-------------- Receiver ------------\n",
        "detectedSyms = (r <= 0).astype(int) #thresolding at value 0\n",
        "i=0\n",
        "f=0\n",
        "su=0\n",
        "for k in range(nSym):\n",
        "  if i==4:\n",
        "    if f==1:\n",
        "      su+=1\n",
        "    i=0\n",
        "    f=0\n",
        "  if detectedSyms[k]!=inputSyms[k]:\n",
        "    f=1\n",
        "  i+=1\n",
        "BLER=su/(nSym/4)\n",
        "print(BLER)"
      ]
    }
  ]
}